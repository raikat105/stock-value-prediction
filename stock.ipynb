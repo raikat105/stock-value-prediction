{
 "cells": [
  {
   "cell_type": "code",
   "execution_count": 65,
   "metadata": {},
   "outputs": [],
   "source": [
    "import pandas as pd # for working on dataset\n",
    "import numpy as np # for using numpy library\n",
    "import matplotlib.pyplot as plt # for visualizing data in a graphical form\n",
    "import quandl # for importing stock dataset"
   ]
  },
  {
   "cell_type": "markdown",
   "metadata": {},
   "source": [
    "Importing the stock dataset of Wipro from 2010 using the quandl library."
   ]
  },
  {
   "cell_type": "code",
   "execution_count": 66,
   "metadata": {},
   "outputs": [],
   "source": [
    "data = quandl.get(\"NSE/WIPRO\", start_date=\"2010-01-01\")\n"
   ]
  },
  {
   "cell_type": "code",
   "execution_count": 67,
   "metadata": {},
   "outputs": [
    {
     "data": {
      "text/plain": [
       "(2237, 7)"
      ]
     },
     "execution_count": 67,
     "metadata": {},
     "output_type": "execute_result"
    }
   ],
   "source": [
    "data.shape"
   ]
  },
  {
   "cell_type": "code",
   "execution_count": 68,
   "metadata": {},
   "outputs": [
    {
     "data": {
      "text/html": [
       "<div>\n",
       "<style scoped>\n",
       "    .dataframe tbody tr th:only-of-type {\n",
       "        vertical-align: middle;\n",
       "    }\n",
       "\n",
       "    .dataframe tbody tr th {\n",
       "        vertical-align: top;\n",
       "    }\n",
       "\n",
       "    .dataframe thead th {\n",
       "        text-align: right;\n",
       "    }\n",
       "</style>\n",
       "<table border=\"1\" class=\"dataframe\">\n",
       "  <thead>\n",
       "    <tr style=\"text-align: right;\">\n",
       "      <th></th>\n",
       "      <th>Open</th>\n",
       "      <th>High</th>\n",
       "      <th>Low</th>\n",
       "      <th>Last</th>\n",
       "      <th>Close</th>\n",
       "      <th>Total Trade Quantity</th>\n",
       "      <th>Turnover (Lacs)</th>\n",
       "    </tr>\n",
       "    <tr>\n",
       "      <th>Date</th>\n",
       "      <th></th>\n",
       "      <th></th>\n",
       "      <th></th>\n",
       "      <th></th>\n",
       "      <th></th>\n",
       "      <th></th>\n",
       "      <th></th>\n",
       "    </tr>\n",
       "  </thead>\n",
       "  <tbody>\n",
       "    <tr>\n",
       "      <th>2010-01-04</th>\n",
       "      <td>685.00</td>\n",
       "      <td>697.0</td>\n",
       "      <td>675.95</td>\n",
       "      <td>696.35</td>\n",
       "      <td>693.80</td>\n",
       "      <td>767166.0</td>\n",
       "      <td>5301.77</td>\n",
       "    </tr>\n",
       "    <tr>\n",
       "      <th>2010-01-05</th>\n",
       "      <td>696.30</td>\n",
       "      <td>708.0</td>\n",
       "      <td>693.55</td>\n",
       "      <td>707.85</td>\n",
       "      <td>704.75</td>\n",
       "      <td>1120433.0</td>\n",
       "      <td>7835.49</td>\n",
       "    </tr>\n",
       "    <tr>\n",
       "      <th>2010-01-06</th>\n",
       "      <td>706.00</td>\n",
       "      <td>710.0</td>\n",
       "      <td>687.00</td>\n",
       "      <td>693.00</td>\n",
       "      <td>690.50</td>\n",
       "      <td>1029382.0</td>\n",
       "      <td>7138.37</td>\n",
       "    </tr>\n",
       "    <tr>\n",
       "      <th>2010-01-07</th>\n",
       "      <td>695.00</td>\n",
       "      <td>695.5</td>\n",
       "      <td>675.00</td>\n",
       "      <td>678.00</td>\n",
       "      <td>678.25</td>\n",
       "      <td>1031096.0</td>\n",
       "      <td>7005.77</td>\n",
       "    </tr>\n",
       "    <tr>\n",
       "      <th>2010-01-08</th>\n",
       "      <td>679.00</td>\n",
       "      <td>680.0</td>\n",
       "      <td>666.00</td>\n",
       "      <td>666.40</td>\n",
       "      <td>668.05</td>\n",
       "      <td>642789.0</td>\n",
       "      <td>4304.71</td>\n",
       "    </tr>\n",
       "    <tr>\n",
       "      <th>2010-01-11</th>\n",
       "      <td>667.00</td>\n",
       "      <td>681.1</td>\n",
       "      <td>656.25</td>\n",
       "      <td>664.00</td>\n",
       "      <td>661.40</td>\n",
       "      <td>1277525.0</td>\n",
       "      <td>8510.66</td>\n",
       "    </tr>\n",
       "    <tr>\n",
       "      <th>2010-01-12</th>\n",
       "      <td>672.00</td>\n",
       "      <td>703.8</td>\n",
       "      <td>672.00</td>\n",
       "      <td>693.00</td>\n",
       "      <td>693.80</td>\n",
       "      <td>2338854.0</td>\n",
       "      <td>16181.34</td>\n",
       "    </tr>\n",
       "    <tr>\n",
       "      <th>2010-01-13</th>\n",
       "      <td>696.95</td>\n",
       "      <td>720.0</td>\n",
       "      <td>688.45</td>\n",
       "      <td>718.10</td>\n",
       "      <td>715.60</td>\n",
       "      <td>2538808.0</td>\n",
       "      <td>17997.41</td>\n",
       "    </tr>\n",
       "    <tr>\n",
       "      <th>2010-01-14</th>\n",
       "      <td>719.80</td>\n",
       "      <td>752.7</td>\n",
       "      <td>708.20</td>\n",
       "      <td>736.00</td>\n",
       "      <td>741.10</td>\n",
       "      <td>4383044.0</td>\n",
       "      <td>32209.21</td>\n",
       "    </tr>\n",
       "    <tr>\n",
       "      <th>2010-01-15</th>\n",
       "      <td>723.00</td>\n",
       "      <td>746.6</td>\n",
       "      <td>722.00</td>\n",
       "      <td>738.00</td>\n",
       "      <td>735.90</td>\n",
       "      <td>3302495.0</td>\n",
       "      <td>24341.58</td>\n",
       "    </tr>\n",
       "  </tbody>\n",
       "</table>\n",
       "</div>"
      ],
      "text/plain": [
       "              Open   High     Low    Last   Close  Total Trade Quantity  \\\n",
       "Date                                                                      \n",
       "2010-01-04  685.00  697.0  675.95  696.35  693.80              767166.0   \n",
       "2010-01-05  696.30  708.0  693.55  707.85  704.75             1120433.0   \n",
       "2010-01-06  706.00  710.0  687.00  693.00  690.50             1029382.0   \n",
       "2010-01-07  695.00  695.5  675.00  678.00  678.25             1031096.0   \n",
       "2010-01-08  679.00  680.0  666.00  666.40  668.05              642789.0   \n",
       "2010-01-11  667.00  681.1  656.25  664.00  661.40             1277525.0   \n",
       "2010-01-12  672.00  703.8  672.00  693.00  693.80             2338854.0   \n",
       "2010-01-13  696.95  720.0  688.45  718.10  715.60             2538808.0   \n",
       "2010-01-14  719.80  752.7  708.20  736.00  741.10             4383044.0   \n",
       "2010-01-15  723.00  746.6  722.00  738.00  735.90             3302495.0   \n",
       "\n",
       "            Turnover (Lacs)  \n",
       "Date                         \n",
       "2010-01-04          5301.77  \n",
       "2010-01-05          7835.49  \n",
       "2010-01-06          7138.37  \n",
       "2010-01-07          7005.77  \n",
       "2010-01-08          4304.71  \n",
       "2010-01-11          8510.66  \n",
       "2010-01-12         16181.34  \n",
       "2010-01-13         17997.41  \n",
       "2010-01-14         32209.21  \n",
       "2010-01-15         24341.58  "
      ]
     },
     "execution_count": 68,
     "metadata": {},
     "output_type": "execute_result"
    }
   ],
   "source": [
    "data.head(10) # displaying the first 10 rows of the dataset"
   ]
  },
  {
   "cell_type": "markdown",
   "metadata": {},
   "source": [
    "Plotting the graph to show the 'Close' trend over the years."
   ]
  },
  {
   "cell_type": "code",
   "execution_count": 84,
   "metadata": {},
   "outputs": [
    {
     "data": {
      "image/png": "[encoded data removed]",
      "text/plain": [
       "<Figure size 1600x800 with 1 Axes>"
      ]
     },
     "metadata": {},
     "output_type": "display_data"
    }
   ],
   "source": [
    "plt.figure(figsize=(16,8))\n",
    "plt.plot(data['Close'], label='Closing Price')\n",
    "plt.title('Wipro Stock Closing Price Trend (2010-2024)')\n",
    "plt.xlabel('Date')\n",
    "plt.ylabel('Closing Price')\n",
    "plt.legend()\n",
    "plt.show()\n"
   ]
  },
  {
   "cell_type": "markdown",
   "metadata": {},
   "source": [
    "**Classification Problem of 'buying' or 'selling' a stock**"
   ]
  },
  {
   "cell_type": "code",
   "execution_count": 70,
   "metadata": {},
   "outputs": [],
   "source": [
    "data['Open - Close'] = data['Open'] - data['Close']\n",
    "data['High - Low'] = data['High'] - data['Low']\n",
    "data = data.dropna()"
   ]
  },
  {
   "cell_type": "markdown",
   "metadata": {},
   "source": [
    "Predicting whether the customer should buy or sell a stock."
   ]
  },
  {
   "cell_type": "code",
   "execution_count": 71,
   "metadata": {},
   "outputs": [
    {
     "data": {
      "text/html": [
       "<div>\n",
       "<style scoped>\n",
       "    .dataframe tbody tr th:only-of-type {\n",
       "        vertical-align: middle;\n",
       "    }\n",
       "\n",
       "    .dataframe tbody tr th {\n",
       "        vertical-align: top;\n",
       "    }\n",
       "\n",
       "    .dataframe thead th {\n",
       "        text-align: right;\n",
       "    }\n",
       "</style>\n",
       "<table border=\"1\" class=\"dataframe\">\n",
       "  <thead>\n",
       "    <tr style=\"text-align: right;\">\n",
       "      <th></th>\n",
       "      <th>Open - Close</th>\n",
       "      <th>High - Low</th>\n",
       "    </tr>\n",
       "    <tr>\n",
       "      <th>Date</th>\n",
       "      <th></th>\n",
       "      <th></th>\n",
       "    </tr>\n",
       "  </thead>\n",
       "  <tbody>\n",
       "    <tr>\n",
       "      <th>2010-01-04</th>\n",
       "      <td>-8.80</td>\n",
       "      <td>21.05</td>\n",
       "    </tr>\n",
       "    <tr>\n",
       "      <th>2010-01-05</th>\n",
       "      <td>-8.45</td>\n",
       "      <td>14.45</td>\n",
       "    </tr>\n",
       "    <tr>\n",
       "      <th>2010-01-06</th>\n",
       "      <td>15.50</td>\n",
       "      <td>23.00</td>\n",
       "    </tr>\n",
       "    <tr>\n",
       "      <th>2010-01-07</th>\n",
       "      <td>16.75</td>\n",
       "      <td>20.50</td>\n",
       "    </tr>\n",
       "    <tr>\n",
       "      <th>2010-01-08</th>\n",
       "      <td>10.95</td>\n",
       "      <td>14.00</td>\n",
       "    </tr>\n",
       "  </tbody>\n",
       "</table>\n",
       "</div>"
      ],
      "text/plain": [
       "            Open - Close  High - Low\n",
       "Date                                \n",
       "2010-01-04         -8.80       21.05\n",
       "2010-01-05         -8.45       14.45\n",
       "2010-01-06         15.50       23.00\n",
       "2010-01-07         16.75       20.50\n",
       "2010-01-08         10.95       14.00"
      ]
     },
     "execution_count": 71,
     "metadata": {},
     "output_type": "execute_result"
    }
   ],
   "source": [
    "x = data[['Open - Close', 'High - Low']]\n",
    "x.head()"
   ]
  },
  {
   "cell_type": "markdown",
   "metadata": {},
   "source": [
    "Our Intension is to display '1' for the buy signal and '-1' for the sell signal."
   ]
  },
  {
   "cell_type": "code",
   "execution_count": 72,
   "metadata": {},
   "outputs": [
    {
     "data": {
      "text/plain": [
       "array([ 1, -1, -1, ..., -1, -1, -1])"
      ]
     },
     "execution_count": 72,
     "metadata": {},
     "output_type": "execute_result"
    }
   ],
   "source": [
    "y = np.where(data['Close'].shift(-1) > data['Close'], 1, -1)\n",
    "y"
   ]
  },
  {
   "cell_type": "code",
   "execution_count": 73,
   "metadata": {},
   "outputs": [],
   "source": [
    "from sklearn.model_selection import train_test_split\n",
    "x_train, x_test, y_train, y_test = train_test_split(x, y, test_size = 0.25)"
   ]
  },
  {
   "cell_type": "code",
   "execution_count": 74,
   "metadata": {},
   "outputs": [
    {
     "name": "stdout",
     "output_type": "stream",
     "text": [
      "Train data accuracy : 0.75\n",
      "Test data accuracy : 0.52\n"
     ]
    }
   ],
   "source": [
    "from sklearn.neighbors import KNeighborsClassifier\n",
    "from sklearn import neighbors\n",
    "from sklearn.model_selection import GridSearchCV\n",
    "from sklearn.metrics import accuracy_score\n",
    "\n",
    "params = {'n_neighbors' : [2,3,4,5,6,7,8,9,10,11,12,13,14,15]}\n",
    "knn = neighbors.KNeighborsClassifier()\n",
    "model = GridSearchCV(knn, params, cv = 5)\n",
    "\n",
    "model.fit(x_train, y_train)\n",
    "\n",
    "accuracy_train = accuracy_score(y_train, model.predict(x_train))\n",
    "accuracy_test = accuracy_score(y_test, model.predict(x_test))\n",
    "\n",
    "print('Train data accuracy : %.2f' %accuracy_train)\n",
    "print('Test data accuracy : %.2f' %accuracy_test)"
   ]
  },
  {
   "cell_type": "code",
   "execution_count": 75,
   "metadata": {},
   "outputs": [],
   "source": [
    "prediction_classification = model.predict(x_test)"
   ]
  },
  {
   "cell_type": "code",
   "execution_count": 76,
   "metadata": {},
   "outputs": [
    {
     "data": {
      "text/html": [
       "<div>\n",
       "<style scoped>\n",
       "    .dataframe tbody tr th:only-of-type {\n",
       "        vertical-align: middle;\n",
       "    }\n",
       "\n",
       "    .dataframe tbody tr th {\n",
       "        vertical-align: top;\n",
       "    }\n",
       "\n",
       "    .dataframe thead th {\n",
       "        text-align: right;\n",
       "    }\n",
       "</style>\n",
       "<table border=\"1\" class=\"dataframe\">\n",
       "  <thead>\n",
       "    <tr style=\"text-align: right;\">\n",
       "      <th></th>\n",
       "      <th>Actual Value</th>\n",
       "      <th>Predicted Value</th>\n",
       "    </tr>\n",
       "  </thead>\n",
       "  <tbody>\n",
       "    <tr>\n",
       "      <th>0</th>\n",
       "      <td>1</td>\n",
       "      <td>1</td>\n",
       "    </tr>\n",
       "    <tr>\n",
       "      <th>1</th>\n",
       "      <td>-1</td>\n",
       "      <td>1</td>\n",
       "    </tr>\n",
       "    <tr>\n",
       "      <th>2</th>\n",
       "      <td>-1</td>\n",
       "      <td>-1</td>\n",
       "    </tr>\n",
       "    <tr>\n",
       "      <th>3</th>\n",
       "      <td>1</td>\n",
       "      <td>1</td>\n",
       "    </tr>\n",
       "    <tr>\n",
       "      <th>4</th>\n",
       "      <td>-1</td>\n",
       "      <td>1</td>\n",
       "    </tr>\n",
       "    <tr>\n",
       "      <th>5</th>\n",
       "      <td>1</td>\n",
       "      <td>1</td>\n",
       "    </tr>\n",
       "    <tr>\n",
       "      <th>6</th>\n",
       "      <td>1</td>\n",
       "      <td>1</td>\n",
       "    </tr>\n",
       "    <tr>\n",
       "      <th>7</th>\n",
       "      <td>1</td>\n",
       "      <td>1</td>\n",
       "    </tr>\n",
       "    <tr>\n",
       "      <th>8</th>\n",
       "      <td>-1</td>\n",
       "      <td>-1</td>\n",
       "    </tr>\n",
       "    <tr>\n",
       "      <th>9</th>\n",
       "      <td>1</td>\n",
       "      <td>-1</td>\n",
       "    </tr>\n",
       "  </tbody>\n",
       "</table>\n",
       "</div>"
      ],
      "text/plain": [
       "   Actual Value  Predicted Value\n",
       "0             1                1\n",
       "1            -1                1\n",
       "2            -1               -1\n",
       "3             1                1\n",
       "4            -1                1\n",
       "5             1                1\n",
       "6             1                1\n",
       "7             1                1\n",
       "8            -1               -1\n",
       "9             1               -1"
      ]
     },
     "execution_count": 76,
     "metadata": {},
     "output_type": "execute_result"
    }
   ],
   "source": [
    "actual_predicted_data = pd.DataFrame({'Actual Value' : y_test, 'Predicted Value' : prediction_classification})\n",
    "actual_predicted_data.head(10)"
   ]
  },
  {
   "cell_type": "markdown",
   "metadata": {},
   "source": [
    "**Regression Problem**"
   ]
  },
  {
   "cell_type": "code",
   "execution_count": 77,
   "metadata": {},
   "outputs": [
    {
     "data": {
      "text/plain": [
       "Date\n",
       "2010-01-04    693.80\n",
       "2010-01-05    704.75\n",
       "2010-01-06    690.50\n",
       "2010-01-07    678.25\n",
       "2010-01-08    668.05\n",
       "               ...  \n",
       "2018-12-31    330.85\n",
       "2019-01-01    326.65\n",
       "2019-01-02    325.55\n",
       "2019-01-03    325.50\n",
       "2019-01-04    324.45\n",
       "Name: Close, Length: 2237, dtype: float64"
      ]
     },
     "execution_count": 77,
     "metadata": {},
     "output_type": "execute_result"
    }
   ],
   "source": [
    "y = data['Close']\n",
    "y"
   ]
  },
  {
   "cell_type": "code",
   "execution_count": 78,
   "metadata": {},
   "outputs": [],
   "source": [
    "from sklearn.neighbors import KNeighborsRegressor\n",
    "from sklearn import neighbors\n",
    "\n",
    "x_train_reg, x_test_reg, y_train_reg, y_test_reg = train_test_split(x, y, test_size=0.25)\n",
    "\n",
    "params = {'n_neighbors' : [2,3,4,5,6,7,8,9,10,11,12,13,14,15]}\n",
    "knn_reg = neighbors.KNeighborsRegressor()\n",
    "model_reg = GridSearchCV(knn_reg, params, cv = 5)\n",
    "\n",
    "model_reg.fit(x_train_reg, y_train_reg)\n",
    "predictions = model_reg.predict(x_test_reg)"
   ]
  },
  {
   "cell_type": "code",
   "execution_count": 79,
   "metadata": {},
   "outputs": [
    {
     "data": {
      "text/plain": [
       "array([518.13571429, 500.78214286, 367.31071429, 479.8       ,\n",
       "       392.53571429, 528.21071429, 441.22142857, 447.99642857,\n",
       "       445.975     , 442.61785714, 488.81428571, 477.53214286,\n",
       "       465.74285714, 481.225     , 419.70357143, 479.56785714,\n",
       "       359.08928571, 425.15357143, 448.28928571, 443.95      ,\n",
       "       424.57857143, 469.55      , 369.91428571, 547.72142857,\n",
       "       470.05714286, 528.93571429, 369.41428571, 497.36785714,\n",
       "       450.35714286, 449.50357143, 477.26428571, 457.73571429,\n",
       "       463.86428571, 430.92857143, 406.40714286, 429.36428571,\n",
       "       468.93571429, 409.15714286, 443.86785714, 379.59285714,\n",
       "       383.87142857, 458.75      , 432.40357143, 493.25      ,\n",
       "       437.77857143, 459.83571429, 515.31785714, 498.46428571,\n",
       "       311.19285714, 453.84285714, 593.01428571, 500.29285714,\n",
       "       524.48928571, 314.81428571, 508.73214286, 421.24285714,\n",
       "       474.50714286, 477.70714286, 462.97142857, 457.36428571,\n",
       "       515.95714286, 431.775     , 433.70357143, 425.62142857,\n",
       "       439.475     , 495.79642857, 367.54642857, 396.95357143,\n",
       "       422.29642857, 499.33928571, 502.78214286, 488.55357143,\n",
       "       446.31428571, 410.56071429, 306.225     , 487.7       ,\n",
       "       487.95357143, 456.04285714, 464.77142857, 387.16428571,\n",
       "       417.16785714, 442.73928571, 342.11428571, 450.49285714,\n",
       "       498.39642857, 399.52857143, 535.68214286, 422.70714286,\n",
       "       435.74285714, 385.72857143, 531.075     , 498.04285714,\n",
       "       467.44642857, 429.53928571, 473.85      , 465.20714286,\n",
       "       474.61428571, 517.01071429, 391.56071429, 431.07142857,\n",
       "       449.525     , 379.52857143, 484.04285714, 308.04642857,\n",
       "       503.48571429, 494.40714286, 500.36785714, 497.18214286,\n",
       "       411.89285714, 493.51785714, 591.69285714, 385.57857143,\n",
       "       392.25357143, 404.46071429, 421.24285714, 486.8       ,\n",
       "       510.62857143, 406.50714286, 351.23214286, 532.90714286,\n",
       "       450.54285714, 523.46428571, 469.38214286, 422.9       ,\n",
       "       413.95357143, 542.62857143, 525.01428571, 450.21428571,\n",
       "       541.71071429, 415.075     , 501.71785714, 459.01428571,\n",
       "       488.575     , 484.87142857, 465.31428571, 471.92142857,\n",
       "       457.35      , 397.63571429, 473.92857143, 550.30714286,\n",
       "       537.66785714, 500.42142857, 429.99642857, 493.85      ,\n",
       "       440.975     , 442.95357143, 428.1       , 410.88928571,\n",
       "       300.61071429, 493.25357143, 462.77142857, 558.11428571,\n",
       "       465.76428571, 447.42142857, 467.24642857, 468.80714286,\n",
       "       542.15357143, 541.25357143, 410.31428571, 492.29642857,\n",
       "       415.43214286, 521.88214286, 432.43571429, 557.48214286,\n",
       "       550.09642857, 536.36071429, 447.29285714, 505.45      ,\n",
       "       507.05714286, 501.58928571, 463.49285714, 475.76071429,\n",
       "       309.71785714, 452.63928571, 306.23571429, 475.80357143,\n",
       "       421.96428571, 325.01785714, 580.85357143, 496.55714286,\n",
       "       466.26428571, 435.35      , 471.66785714, 424.575     ,\n",
       "       547.925     , 426.96428571, 528.12857143, 393.33571429,\n",
       "       548.27857143, 453.25357143, 384.51071429, 404.525     ,\n",
       "       461.78571429, 526.60714286, 466.42142857, 545.36071429,\n",
       "       329.21785714, 515.52142857, 503.925     , 488.53928571,\n",
       "       401.01071429, 370.34285714, 377.94285714, 431.69285714,\n",
       "       429.57142857, 463.35714286, 455.85714286, 297.93928571,\n",
       "       510.79642857, 323.11785714, 479.18928571, 460.66428571,\n",
       "       414.78571429, 467.36428571, 534.41071429, 471.58571429,\n",
       "       498.88214286, 465.20714286, 537.37857143, 490.23571429,\n",
       "       420.34285714, 488.63214286, 500.06428571, 362.32857143,\n",
       "       311.19285714, 445.81428571, 357.37142857, 407.93214286,\n",
       "       356.49285714, 428.72857143, 486.46785714, 463.05      ,\n",
       "       448.09285714, 475.26071429, 425.275     , 382.84285714,\n",
       "       411.725     , 501.62142857, 480.06785714, 499.20714286,\n",
       "       437.11428571, 482.87142857, 538.11071429, 456.09285714,\n",
       "       346.44285714, 490.275     , 470.225     , 511.15357143,\n",
       "       560.48928571, 411.875     , 456.775     , 484.76428571,\n",
       "       429.99285714, 500.38214286, 469.91428571, 482.925     ,\n",
       "       404.66071429, 445.39285714, 299.08214286, 423.61785714,\n",
       "       520.63571429, 344.32857143, 434.32142857, 488.51428571,\n",
       "       426.93928571, 473.8       , 384.52142857, 393.50357143,\n",
       "       451.26071429, 486.84642857, 418.48571429, 468.18571429,\n",
       "       488.575     , 456.1       , 402.31071429, 456.13571429,\n",
       "       508.71428571, 510.475     , 443.48214286, 360.81071429,\n",
       "       534.58214286, 489.39642857, 317.16785714, 474.54285714,\n",
       "       522.675     , 365.3       , 414.31785714, 573.66428571,\n",
       "       456.25357143, 474.53928571, 399.59642857, 481.53214286,\n",
       "       484.58214286, 489.55714286, 492.06428571, 479.03214286,\n",
       "       430.95714286, 463.27142857, 432.48214286, 447.375     ,\n",
       "       527.39642857, 440.92857143, 586.22142857, 405.85714286,\n",
       "       373.57142857, 476.57142857, 494.06071429, 320.04642857,\n",
       "       419.07857143, 489.30357143, 523.84642857, 388.16071429,\n",
       "       475.79642857, 477.92142857, 425.1       , 397.88928571,\n",
       "       403.97142857, 468.15      , 478.99285714, 483.63571429,\n",
       "       497.31428571, 366.61428571, 517.73571429, 511.97857143,\n",
       "       530.03214286, 413.11071429, 424.03571429, 431.98928571,\n",
       "       491.15      , 300.15357143, 563.67142857, 434.475     ,\n",
       "       519.77857143, 344.67857143, 493.25357143, 427.63214286,\n",
       "       361.08928571, 414.44642857, 435.81428571, 437.32857143,\n",
       "       495.69642857, 523.925     , 414.72142857, 354.11071429,\n",
       "       296.74285714, 476.70714286, 447.60357143, 535.68571429,\n",
       "       324.08214286, 504.26785714, 495.87142857, 467.875     ,\n",
       "       311.32857143, 531.83214286, 404.24642857, 488.48928571,\n",
       "       550.27142857, 505.925     , 517.275     , 492.66071429,\n",
       "       428.28214286, 418.725     , 481.25357143, 471.91071429,\n",
       "       514.925     , 392.11428571, 482.54285714, 472.58928571,\n",
       "       426.13571429, 455.26071429, 379.81428571, 403.51785714,\n",
       "       350.75      , 404.37142857, 438.41428571, 423.15357143,\n",
       "       457.23571429, 405.95357143, 433.97142857, 449.3       ,\n",
       "       548.26785714, 559.06785714, 452.33928571, 464.04285714,\n",
       "       502.93571429, 592.52857143, 626.72142857, 467.36428571,\n",
       "       480.35714286, 462.075     , 309.775     , 533.61071429,\n",
       "       482.77142857, 550.00714286, 471.85      , 436.14642857,\n",
       "       493.05      , 457.7       , 394.21428571, 477.35357143,\n",
       "       436.03214286, 447.73571429, 504.58214286, 385.57857143,\n",
       "       456.53928571, 520.45714286, 442.01428571, 342.3       ,\n",
       "       471.12142857, 483.56428571, 540.39285714, 450.85      ,\n",
       "       490.98571429, 384.52142857, 442.61428571, 468.41428571,\n",
       "       556.10357143, 543.84642857, 456.69642857, 408.075     ,\n",
       "       528.675     , 462.15      , 433.78928571, 501.3       ,\n",
       "       450.48571429, 494.84285714, 462.23928571, 439.81428571,\n",
       "       428.37142857, 410.56071429, 487.56428571, 367.00714286,\n",
       "       436.03571429, 454.33928571, 512.76071429, 343.33214286,\n",
       "       455.125     , 442.57142857, 457.175     , 550.34642857,\n",
       "       472.21785714, 459.85714286, 462.04285714, 482.12857143,\n",
       "       474.28214286, 484.17142857, 345.62857143, 488.55714286,\n",
       "       519.96428571, 490.38571429, 492.56071429, 465.33214286,\n",
       "       352.48571429, 401.29285714, 438.78571429, 386.79642857,\n",
       "       549.87857143, 496.92857143, 431.69285714, 456.17142857,\n",
       "       423.57857143, 537.58214286, 504.01071429, 415.47857143,\n",
       "       556.98928571, 449.35714286, 496.08571429, 429.11785714,\n",
       "       344.32857143, 480.725     , 366.34642857, 427.49285714,\n",
       "       454.83928571, 452.40714286, 399.93928571, 534.34285714,\n",
       "       456.17142857, 444.23214286, 505.83214286, 443.55357143,\n",
       "       438.38928571, 537.85714286, 426.61071429, 408.81071429,\n",
       "       471.56071429, 490.71071429, 447.89285714, 441.75      ,\n",
       "       488.575     , 395.15357143, 534.8       , 476.90714286,\n",
       "       445.65714286, 422.20357143, 398.48571429, 424.56785714,\n",
       "       533.85      , 535.75357143, 522.55357143, 454.63571429,\n",
       "       457.20714286, 494.72142857, 436.25714286, 525.81071429,\n",
       "       430.01785714, 421.875     , 360.98928571, 460.28214286,\n",
       "       439.16785714, 455.00714286, 486.33928571, 435.92857143,\n",
       "       421.37142857, 462.925     , 500.00357143, 351.78214286,\n",
       "       466.00714286, 342.43214286, 433.52857143, 408.68571429,\n",
       "       450.28928571, 457.575     , 455.01071429, 306.95      ,\n",
       "       474.81428571, 498.26785714, 436.93214286, 508.875     ,\n",
       "       421.59285714, 491.82142857, 563.67142857, 554.09285714,\n",
       "       404.64285714, 448.275     , 590.25      , 432.60714286,\n",
       "       492.66071429, 442.13571429, 539.02142857, 595.79642857,\n",
       "       422.54285714, 390.32142857, 437.26785714, 368.60357143,\n",
       "       422.81428571, 471.40714286, 445.24285714, 533.975     ,\n",
       "       492.90357143, 490.31071429, 538.19642857, 467.58928571,\n",
       "       460.98214286, 471.68571429, 392.88928571, 529.67142857,\n",
       "       513.54642857, 448.04642857, 483.63571429, 455.61785714])"
      ]
     },
     "execution_count": 79,
     "metadata": {},
     "output_type": "execute_result"
    }
   ],
   "source": [
    "predictions"
   ]
  },
  {
   "cell_type": "code",
   "execution_count": 80,
   "metadata": {},
   "outputs": [
    {
     "data": {
      "text/plain": [
       "100.03569866094075"
      ]
     },
     "execution_count": 80,
     "metadata": {},
     "output_type": "execute_result"
    }
   ],
   "source": [
    "# rmse value\n",
    "rms = np.sqrt(np.mean(np.power((np.array(y_test_reg) - np.array(predictions)), 2)))\n",
    "rms"
   ]
  },
  {
   "cell_type": "code",
   "execution_count": 81,
   "metadata": {},
   "outputs": [
    {
     "data": {
      "text/html": [
       "<div>\n",
       "<style scoped>\n",
       "    .dataframe tbody tr th:only-of-type {\n",
       "        vertical-align: middle;\n",
       "    }\n",
       "\n",
       "    .dataframe tbody tr th {\n",
       "        vertical-align: top;\n",
       "    }\n",
       "\n",
       "    .dataframe thead th {\n",
       "        text-align: right;\n",
       "    }\n",
       "</style>\n",
       "<table border=\"1\" class=\"dataframe\">\n",
       "  <thead>\n",
       "    <tr style=\"text-align: right;\">\n",
       "      <th></th>\n",
       "      <th>Actual Close</th>\n",
       "      <th>Predicted Close</th>\n",
       "    </tr>\n",
       "    <tr>\n",
       "      <th>Date</th>\n",
       "      <th></th>\n",
       "      <th></th>\n",
       "    </tr>\n",
       "  </thead>\n",
       "  <tbody>\n",
       "    <tr>\n",
       "      <th>2011-01-17</th>\n",
       "      <td>466.75</td>\n",
       "      <td>518.135714</td>\n",
       "    </tr>\n",
       "    <tr>\n",
       "      <th>2012-02-24</th>\n",
       "      <td>437.90</td>\n",
       "      <td>500.782143</td>\n",
       "    </tr>\n",
       "    <tr>\n",
       "      <th>2012-04-17</th>\n",
       "      <td>421.20</td>\n",
       "      <td>367.310714</td>\n",
       "    </tr>\n",
       "    <tr>\n",
       "      <th>2014-03-26</th>\n",
       "      <td>545.55</td>\n",
       "      <td>479.800000</td>\n",
       "    </tr>\n",
       "    <tr>\n",
       "      <th>2012-12-27</th>\n",
       "      <td>385.50</td>\n",
       "      <td>392.535714</td>\n",
       "    </tr>\n",
       "    <tr>\n",
       "      <th>2010-06-01</th>\n",
       "      <td>658.30</td>\n",
       "      <td>528.210714</td>\n",
       "    </tr>\n",
       "    <tr>\n",
       "      <th>2016-09-12</th>\n",
       "      <td>480.40</td>\n",
       "      <td>441.221429</td>\n",
       "    </tr>\n",
       "    <tr>\n",
       "      <th>2010-10-11</th>\n",
       "      <td>463.65</td>\n",
       "      <td>447.996429</td>\n",
       "    </tr>\n",
       "    <tr>\n",
       "      <th>2018-04-11</th>\n",
       "      <td>285.70</td>\n",
       "      <td>445.975000</td>\n",
       "    </tr>\n",
       "    <tr>\n",
       "      <th>2012-07-20</th>\n",
       "      <td>363.30</td>\n",
       "      <td>442.617857</td>\n",
       "    </tr>\n",
       "  </tbody>\n",
       "</table>\n",
       "</div>"
      ],
      "text/plain": [
       "            Actual Close  Predicted Close\n",
       "Date                                     \n",
       "2011-01-17        466.75       518.135714\n",
       "2012-02-24        437.90       500.782143\n",
       "2012-04-17        421.20       367.310714\n",
       "2014-03-26        545.55       479.800000\n",
       "2012-12-27        385.50       392.535714\n",
       "2010-06-01        658.30       528.210714\n",
       "2016-09-12        480.40       441.221429\n",
       "2010-10-11        463.65       447.996429\n",
       "2018-04-11        285.70       445.975000\n",
       "2012-07-20        363.30       442.617857"
      ]
     },
     "execution_count": 81,
     "metadata": {},
     "output_type": "execute_result"
    }
   ],
   "source": [
    "valid = pd.DataFrame({'Actual Close' : y_test_reg, 'Predicted Close' : predictions})\n",
    "valid.head(10)"
   ]
  }
 ],
 "metadata": {
  "kernelspec": {
   "display_name": "Python 3",
   "language": "python",
   "name": "python3"
  },
  "language_info": {
   "codemirror_mode": {
    "name": "ipython",
    "version": 3
   },
   "file_extension": ".py",
   "mimetype": "text/x-python",
   "name": "python",
   "nbconvert_exporter": "python",
   "pygments_lexer": "ipython3",
   "version": "3.11.4"
  }
 },
 "nbformat": 4,
 "nbformat_minor": 2
}
