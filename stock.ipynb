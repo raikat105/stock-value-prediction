{
 "cells": [
  {
   "cell_type": "code",
   "execution_count": 1,
   "metadata": {},
   "outputs": [],
   "source": [
    "import pandas as pd # for working on dataset\n",
    "import numpy as np # for using numpy library\n",
    "import matplotlib.pyplot as plt # for visualizing data in a graphical form\n",
    "import quandl # for importing stock dataset"
   ]
  },
  {
   "cell_type": "markdown",
   "metadata": {},
   "source": [
    "Importing the stock dataset of Wipro from 2010 using the quandl library."
   ]
  },
  {
   "cell_type": "code",
   "execution_count": 2,
   "metadata": {},
   "outputs": [],
   "source": [
    "data = quandl.get(\"NSE/WIPRO\", start_date=\"2010-01-01\")\n"
   ]
  },
  {
   "cell_type": "code",
   "execution_count": 3,
   "metadata": {},
   "outputs": [
    {
     "data": {
      "text/plain": [
       "(2237, 7)"
      ]
     },
     "execution_count": 3,
     "metadata": {},
     "output_type": "execute_result"
    }
   ],
   "source": [
    "data.shape"
   ]
  },
  {
   "cell_type": "code",
   "execution_count": 4,
   "metadata": {},
   "outputs": [
    {
     "data": {
      "text/html": [
       "<div>\n",
       "<style scoped>\n",
       "    .dataframe tbody tr th:only-of-type {\n",
       "        vertical-align: middle;\n",
       "    }\n",
       "\n",
       "    .dataframe tbody tr th {\n",
       "        vertical-align: top;\n",
       "    }\n",
       "\n",
       "    .dataframe thead th {\n",
       "        text-align: right;\n",
       "    }\n",
       "</style>\n",
       "<table border=\"1\" class=\"dataframe\">\n",
       "  <thead>\n",
       "    <tr style=\"text-align: right;\">\n",
       "      <th></th>\n",
       "      <th>Open</th>\n",
       "      <th>High</th>\n",
       "      <th>Low</th>\n",
       "      <th>Last</th>\n",
       "      <th>Close</th>\n",
       "      <th>Total Trade Quantity</th>\n",
       "      <th>Turnover (Lacs)</th>\n",
       "    </tr>\n",
       "    <tr>\n",
       "      <th>Date</th>\n",
       "      <th></th>\n",
       "      <th></th>\n",
       "      <th></th>\n",
       "      <th></th>\n",
       "      <th></th>\n",
       "      <th></th>\n",
       "      <th></th>\n",
       "    </tr>\n",
       "  </thead>\n",
       "  <tbody>\n",
       "    <tr>\n",
       "      <th>2010-01-04</th>\n",
       "      <td>685.00</td>\n",
       "      <td>697.0</td>\n",
       "      <td>675.95</td>\n",
       "      <td>696.35</td>\n",
       "      <td>693.80</td>\n",
       "      <td>767166.0</td>\n",
       "      <td>5301.77</td>\n",
       "    </tr>\n",
       "    <tr>\n",
       "      <th>2010-01-05</th>\n",
       "      <td>696.30</td>\n",
       "      <td>708.0</td>\n",
       "      <td>693.55</td>\n",
       "      <td>707.85</td>\n",
       "      <td>704.75</td>\n",
       "      <td>1120433.0</td>\n",
       "      <td>7835.49</td>\n",
       "    </tr>\n",
       "    <tr>\n",
       "      <th>2010-01-06</th>\n",
       "      <td>706.00</td>\n",
       "      <td>710.0</td>\n",
       "      <td>687.00</td>\n",
       "      <td>693.00</td>\n",
       "      <td>690.50</td>\n",
       "      <td>1029382.0</td>\n",
       "      <td>7138.37</td>\n",
       "    </tr>\n",
       "    <tr>\n",
       "      <th>2010-01-07</th>\n",
       "      <td>695.00</td>\n",
       "      <td>695.5</td>\n",
       "      <td>675.00</td>\n",
       "      <td>678.00</td>\n",
       "      <td>678.25</td>\n",
       "      <td>1031096.0</td>\n",
       "      <td>7005.77</td>\n",
       "    </tr>\n",
       "    <tr>\n",
       "      <th>2010-01-08</th>\n",
       "      <td>679.00</td>\n",
       "      <td>680.0</td>\n",
       "      <td>666.00</td>\n",
       "      <td>666.40</td>\n",
       "      <td>668.05</td>\n",
       "      <td>642789.0</td>\n",
       "      <td>4304.71</td>\n",
       "    </tr>\n",
       "    <tr>\n",
       "      <th>2010-01-11</th>\n",
       "      <td>667.00</td>\n",
       "      <td>681.1</td>\n",
       "      <td>656.25</td>\n",
       "      <td>664.00</td>\n",
       "      <td>661.40</td>\n",
       "      <td>1277525.0</td>\n",
       "      <td>8510.66</td>\n",
       "    </tr>\n",
       "    <tr>\n",
       "      <th>2010-01-12</th>\n",
       "      <td>672.00</td>\n",
       "      <td>703.8</td>\n",
       "      <td>672.00</td>\n",
       "      <td>693.00</td>\n",
       "      <td>693.80</td>\n",
       "      <td>2338854.0</td>\n",
       "      <td>16181.34</td>\n",
       "    </tr>\n",
       "    <tr>\n",
       "      <th>2010-01-13</th>\n",
       "      <td>696.95</td>\n",
       "      <td>720.0</td>\n",
       "      <td>688.45</td>\n",
       "      <td>718.10</td>\n",
       "      <td>715.60</td>\n",
       "      <td>2538808.0</td>\n",
       "      <td>17997.41</td>\n",
       "    </tr>\n",
       "    <tr>\n",
       "      <th>2010-01-14</th>\n",
       "      <td>719.80</td>\n",
       "      <td>752.7</td>\n",
       "      <td>708.20</td>\n",
       "      <td>736.00</td>\n",
       "      <td>741.10</td>\n",
       "      <td>4383044.0</td>\n",
       "      <td>32209.21</td>\n",
       "    </tr>\n",
       "    <tr>\n",
       "      <th>2010-01-15</th>\n",
       "      <td>723.00</td>\n",
       "      <td>746.6</td>\n",
       "      <td>722.00</td>\n",
       "      <td>738.00</td>\n",
       "      <td>735.90</td>\n",
       "      <td>3302495.0</td>\n",
       "      <td>24341.58</td>\n",
       "    </tr>\n",
       "  </tbody>\n",
       "</table>\n",
       "</div>"
      ],
      "text/plain": [
       "              Open   High     Low    Last   Close  Total Trade Quantity  \\\n",
       "Date                                                                      \n",
       "2010-01-04  685.00  697.0  675.95  696.35  693.80              767166.0   \n",
       "2010-01-05  696.30  708.0  693.55  707.85  704.75             1120433.0   \n",
       "2010-01-06  706.00  710.0  687.00  693.00  690.50             1029382.0   \n",
       "2010-01-07  695.00  695.5  675.00  678.00  678.25             1031096.0   \n",
       "2010-01-08  679.00  680.0  666.00  666.40  668.05              642789.0   \n",
       "2010-01-11  667.00  681.1  656.25  664.00  661.40             1277525.0   \n",
       "2010-01-12  672.00  703.8  672.00  693.00  693.80             2338854.0   \n",
       "2010-01-13  696.95  720.0  688.45  718.10  715.60             2538808.0   \n",
       "2010-01-14  719.80  752.7  708.20  736.00  741.10             4383044.0   \n",
       "2010-01-15  723.00  746.6  722.00  738.00  735.90             3302495.0   \n",
       "\n",
       "            Turnover (Lacs)  \n",
       "Date                         \n",
       "2010-01-04          5301.77  \n",
       "2010-01-05          7835.49  \n",
       "2010-01-06          7138.37  \n",
       "2010-01-07          7005.77  \n",
       "2010-01-08          4304.71  \n",
       "2010-01-11          8510.66  \n",
       "2010-01-12         16181.34  \n",
       "2010-01-13         17997.41  \n",
       "2010-01-14         32209.21  \n",
       "2010-01-15         24341.58  "
      ]
     },
     "execution_count": 4,
     "metadata": {},
     "output_type": "execute_result"
    }
   ],
   "source": [
    "data.head(10) # displaying the first 10 rows of the dataset"
   ]
  },
  {
   "cell_type": "markdown",
   "metadata": {},
   "source": [
    "Plotting the graph to show the 'Close' trend over the years."
   ]
  },
  {
   "cell_type": "code",
   "execution_count": 5,
   "metadata": {},
   "outputs": [
    {
     "data": {
      "text/plain": [
       "[<matplotlib.lines.Line2D at 0x2aaa4c89dd0>]"
      ]
     },
     "execution_count": 5,
     "metadata": {},
     "output_type": "execute_result"
    },
    {
     "data": {
      "image/png": "[encoded data removed]",
      "text/plain": [
       "<Figure size 1600x800 with 1 Axes>"
      ]
     },
     "metadata": {},
     "output_type": "display_data"
    }
   ],
   "source": [
    "plt.figure(figsize=(16,8)) # specifying the size of the plot\n",
    "plt.plot(data['Close'], label='Closing Price')"
   ]
  },
  {
   "cell_type": "markdown",
   "metadata": {},
   "source": [
    "**Classification Problem of 'buying' or 'selling' a stock**"
   ]
  },
  {
   "cell_type": "code",
   "execution_count": 6,
   "metadata": {},
   "outputs": [],
   "source": [
    "data['Open - Close'] = data['Open'] - data['Close']\n",
    "data['High - Low'] = data['High'] - data['Low']\n",
    "data = data.dropna()"
   ]
  },
  {
   "cell_type": "markdown",
   "metadata": {},
   "source": [
    "Predicting whether the customer should buy or sell a stock."
   ]
  },
  {
   "cell_type": "code",
   "execution_count": 7,
   "metadata": {},
   "outputs": [
    {
     "data": {
      "text/html": [
       "<div>\n",
       "<style scoped>\n",
       "    .dataframe tbody tr th:only-of-type {\n",
       "        vertical-align: middle;\n",
       "    }\n",
       "\n",
       "    .dataframe tbody tr th {\n",
       "        vertical-align: top;\n",
       "    }\n",
       "\n",
       "    .dataframe thead th {\n",
       "        text-align: right;\n",
       "    }\n",
       "</style>\n",
       "<table border=\"1\" class=\"dataframe\">\n",
       "  <thead>\n",
       "    <tr style=\"text-align: right;\">\n",
       "      <th></th>\n",
       "      <th>Open - Close</th>\n",
       "      <th>High - Low</th>\n",
       "    </tr>\n",
       "    <tr>\n",
       "      <th>Date</th>\n",
       "      <th></th>\n",
       "      <th></th>\n",
       "    </tr>\n",
       "  </thead>\n",
       "  <tbody>\n",
       "    <tr>\n",
       "      <th>2010-01-04</th>\n",
       "      <td>-8.80</td>\n",
       "      <td>21.05</td>\n",
       "    </tr>\n",
       "    <tr>\n",
       "      <th>2010-01-05</th>\n",
       "      <td>-8.45</td>\n",
       "      <td>14.45</td>\n",
       "    </tr>\n",
       "    <tr>\n",
       "      <th>2010-01-06</th>\n",
       "      <td>15.50</td>\n",
       "      <td>23.00</td>\n",
       "    </tr>\n",
       "    <tr>\n",
       "      <th>2010-01-07</th>\n",
       "      <td>16.75</td>\n",
       "      <td>20.50</td>\n",
       "    </tr>\n",
       "    <tr>\n",
       "      <th>2010-01-08</th>\n",
       "      <td>10.95</td>\n",
       "      <td>14.00</td>\n",
       "    </tr>\n",
       "  </tbody>\n",
       "</table>\n",
       "</div>"
      ],
      "text/plain": [
       "            Open - Close  High - Low\n",
       "Date                                \n",
       "2010-01-04         -8.80       21.05\n",
       "2010-01-05         -8.45       14.45\n",
       "2010-01-06         15.50       23.00\n",
       "2010-01-07         16.75       20.50\n",
       "2010-01-08         10.95       14.00"
      ]
     },
     "execution_count": 7,
     "metadata": {},
     "output_type": "execute_result"
    }
   ],
   "source": [
    "x = data[['Open - Close', 'High - Low']]\n",
    "x.head()"
   ]
  },
  {
   "cell_type": "markdown",
   "metadata": {},
   "source": [
    "Our Intension is to display '1' for the buy signal and '-1' for the sell signal."
   ]
  },
  {
   "cell_type": "code",
   "execution_count": 8,
   "metadata": {},
   "outputs": [
    {
     "data": {
      "text/plain": [
       "array([ 1, -1, -1, ..., -1, -1, -1])"
      ]
     },
     "execution_count": 8,
     "metadata": {},
     "output_type": "execute_result"
    }
   ],
   "source": [
    "y = np.where(data['Close'].shift(-1) > data['Close'], 1, -1)\n",
    "y"
   ]
  },
  {
   "cell_type": "code",
   "execution_count": 9,
   "metadata": {},
   "outputs": [],
   "source": [
    "from sklearn.model_selection import train_test_split\n",
    "x_train, x_test, y_train, y_test = train_test_split(x, y, test_size = 0.25)"
   ]
  },
  {
   "cell_type": "code",
   "execution_count": 10,
   "metadata": {},
   "outputs": [
    {
     "name": "stdout",
     "output_type": "stream",
     "text": [
      "Train data accuracy : 0.75\n",
      "Test data accuracy : 0.50\n"
     ]
    }
   ],
   "source": [
    "from sklearn.neighbors import KNeighborsClassifier\n",
    "from sklearn import neighbors\n",
    "from sklearn.model_selection import GridSearchCV\n",
    "from sklearn.metrics import accuracy_score\n",
    "\n",
    "params = {'n_neighbors' : [2,3,4,5,6,7,8,9,10,11,12,13,14,15]}\n",
    "knn = neighbors.KNeighborsClassifier()\n",
    "model = GridSearchCV(knn, params, cv = 5)\n",
    "\n",
    "model.fit(x_train, y_train)\n",
    "\n",
    "accuracy_train = accuracy_score(y_train, model.predict(x_train))\n",
    "accuracy_test = accuracy_score(y_test, model.predict(x_test))\n",
    "\n",
    "print('Train data accuracy : %.2f' %accuracy_train)\n",
    "print('Test data accuracy : %.2f' %accuracy_test)"
   ]
  },
  {
   "cell_type": "code",
   "execution_count": 11,
   "metadata": {},
   "outputs": [],
   "source": [
    "prediction_classification = model.predict(x_test)"
   ]
  },
  {
   "cell_type": "code",
   "execution_count": 12,
   "metadata": {},
   "outputs": [
    {
     "data": {
      "text/html": [
       "<div>\n",
       "<style scoped>\n",
       "    .dataframe tbody tr th:only-of-type {\n",
       "        vertical-align: middle;\n",
       "    }\n",
       "\n",
       "    .dataframe tbody tr th {\n",
       "        vertical-align: top;\n",
       "    }\n",
       "\n",
       "    .dataframe thead th {\n",
       "        text-align: right;\n",
       "    }\n",
       "</style>\n",
       "<table border=\"1\" class=\"dataframe\">\n",
       "  <thead>\n",
       "    <tr style=\"text-align: right;\">\n",
       "      <th></th>\n",
       "      <th>Actual Value</th>\n",
       "      <th>Predicted Value</th>\n",
       "    </tr>\n",
       "  </thead>\n",
       "  <tbody>\n",
       "    <tr>\n",
       "      <th>0</th>\n",
       "      <td>1</td>\n",
       "      <td>-1</td>\n",
       "    </tr>\n",
       "    <tr>\n",
       "      <th>1</th>\n",
       "      <td>1</td>\n",
       "      <td>-1</td>\n",
       "    </tr>\n",
       "    <tr>\n",
       "      <th>2</th>\n",
       "      <td>1</td>\n",
       "      <td>1</td>\n",
       "    </tr>\n",
       "    <tr>\n",
       "      <th>3</th>\n",
       "      <td>1</td>\n",
       "      <td>-1</td>\n",
       "    </tr>\n",
       "    <tr>\n",
       "      <th>4</th>\n",
       "      <td>1</td>\n",
       "      <td>1</td>\n",
       "    </tr>\n",
       "    <tr>\n",
       "      <th>5</th>\n",
       "      <td>1</td>\n",
       "      <td>1</td>\n",
       "    </tr>\n",
       "    <tr>\n",
       "      <th>6</th>\n",
       "      <td>-1</td>\n",
       "      <td>1</td>\n",
       "    </tr>\n",
       "    <tr>\n",
       "      <th>7</th>\n",
       "      <td>-1</td>\n",
       "      <td>1</td>\n",
       "    </tr>\n",
       "    <tr>\n",
       "      <th>8</th>\n",
       "      <td>-1</td>\n",
       "      <td>-1</td>\n",
       "    </tr>\n",
       "    <tr>\n",
       "      <th>9</th>\n",
       "      <td>1</td>\n",
       "      <td>-1</td>\n",
       "    </tr>\n",
       "  </tbody>\n",
       "</table>\n",
       "</div>"
      ],
      "text/plain": [
       "   Actual Value  Predicted Value\n",
       "0             1               -1\n",
       "1             1               -1\n",
       "2             1                1\n",
       "3             1               -1\n",
       "4             1                1\n",
       "5             1                1\n",
       "6            -1                1\n",
       "7            -1                1\n",
       "8            -1               -1\n",
       "9             1               -1"
      ]
     },
     "execution_count": 12,
     "metadata": {},
     "output_type": "execute_result"
    }
   ],
   "source": [
    "actual_predicted_data = pd.DataFrame({'Actual Value' : y_test, 'Predicted Value' : prediction_classification})\n",
    "actual_predicted_data.head(10)"
   ]
  },
  {
   "cell_type": "markdown",
   "metadata": {},
   "source": [
    "**Regression Problem**"
   ]
  },
  {
   "cell_type": "code",
   "execution_count": 13,
   "metadata": {},
   "outputs": [
    {
     "data": {
      "text/plain": [
       "Date\n",
       "2010-01-04    693.80\n",
       "2010-01-05    704.75\n",
       "2010-01-06    690.50\n",
       "2010-01-07    678.25\n",
       "2010-01-08    668.05\n",
       "               ...  \n",
       "2018-12-31    330.85\n",
       "2019-01-01    326.65\n",
       "2019-01-02    325.55\n",
       "2019-01-03    325.50\n",
       "2019-01-04    324.45\n",
       "Name: Close, Length: 2237, dtype: float64"
      ]
     },
     "execution_count": 13,
     "metadata": {},
     "output_type": "execute_result"
    }
   ],
   "source": [
    "y = data['Close']\n",
    "y"
   ]
  },
  {
   "cell_type": "code",
   "execution_count": 14,
   "metadata": {},
   "outputs": [],
   "source": [
    "from sklearn.neighbors import KNeighborsRegressor\n",
    "from sklearn import neighbors\n",
    "\n",
    "x_train_reg, x_test_reg, y_train_reg, y_test_reg = train_test_split(x, y, test_size=0.25)\n",
    "\n",
    "params = {'n_neighbors' : [2,3,4,5,6,7,8,9,10,11,12,13,14,15]}\n",
    "knn_reg = neighbors.KNeighborsRegressor()\n",
    "model_reg = GridSearchCV(knn_reg, params, cv = 5)\n",
    "\n",
    "model_reg.fit(x_train_reg, y_train_reg)\n",
    "predictions = model_reg.predict(x_test_reg)"
   ]
  },
  {
   "cell_type": "code",
   "execution_count": 15,
   "metadata": {},
   "outputs": [
    {
     "data": {
      "text/plain": [
       "array([475.46923077, 514.95      , 375.14615385, 395.17692308,\n",
       "       299.65      , 462.36538462, 464.31153846, 415.44230769,\n",
       "       478.23461538, 332.39615385, 480.78076923, 488.20769231,\n",
       "       544.76923077, 533.44230769, 538.09615385, 399.95      ,\n",
       "       489.88461538, 436.93846154, 497.28846154, 300.17307692,\n",
       "       456.96538462, 495.59615385, 325.88846154, 418.19615385,\n",
       "       509.29230769, 511.05      , 457.50384615, 469.76923077,\n",
       "       456.14230769, 416.63076923, 450.60769231, 357.65769231,\n",
       "       427.98076923, 401.86538462, 436.4       , 461.58461538,\n",
       "       433.3       , 424.02307692, 440.08461538, 456.18846154,\n",
       "       506.89615385, 483.66153846, 508.77692308, 330.7       ,\n",
       "       516.18461538, 424.11153846, 442.29230769, 388.69230769,\n",
       "       299.3       , 475.46153846, 521.34615385, 454.61923077,\n",
       "       306.15      , 421.72307692, 394.3       , 431.56923077,\n",
       "       617.84230769, 311.66538462, 431.21538462, 415.21923077,\n",
       "       587.12692308, 388.68846154, 476.15769231, 567.98461538,\n",
       "       381.61923077, 433.67307692, 458.51538462, 477.35769231,\n",
       "       461.16923077, 441.84230769, 447.07307692, 497.27692308,\n",
       "       364.66538462, 566.48846154, 466.06153846, 509.17307692,\n",
       "       503.88846154, 450.47692308, 422.55384615, 354.42307692,\n",
       "       379.39230769, 509.83461538, 518.17692308, 633.63846154,\n",
       "       507.51538462, 480.34230769, 465.76923077, 453.65384615,\n",
       "       377.7       , 488.54615385, 493.16153846, 416.3       ,\n",
       "       370.66538462, 475.98846154, 483.03076923, 411.72307692,\n",
       "       463.06538462, 426.81923077, 483.23461538, 534.94230769,\n",
       "       472.42307692, 476.91538462, 493.43846154, 377.19615385,\n",
       "       439.48846154, 393.35384615, 590.78846154, 455.46538462,\n",
       "       483.16923077, 459.04230769, 477.98846154, 419.45384615,\n",
       "       382.23846154, 479.18076923, 433.16153846, 513.30769231,\n",
       "       508.52692308, 399.95      , 476.02307692, 438.66153846,\n",
       "       320.79230769, 411.59230769, 380.28846154, 452.97307692,\n",
       "       484.53846154, 560.26923077, 603.92307692, 508.54230769,\n",
       "       342.48846154, 510.06538462, 457.40769231, 377.14230769,\n",
       "       380.95384615, 423.04615385, 353.29615385, 320.35      ,\n",
       "       508.33076923, 455.89615385, 475.79230769, 302.56153846,\n",
       "       472.16538462, 345.17307692, 416.81923077, 471.01923077,\n",
       "       484.60384615, 501.20384615, 510.59230769, 468.63076923,\n",
       "       498.69615385, 477.26923077, 396.21923077, 556.61538462,\n",
       "       550.04615385, 470.46538462, 438.94615385, 500.05      ,\n",
       "       556.10384615, 542.42307692, 389.48076923, 420.52692308,\n",
       "       414.17692308, 406.26153846, 442.55      , 476.09615385,\n",
       "       491.66153846, 330.7       , 439.18076923, 403.87692308,\n",
       "       401.97692308, 498.88461538, 452.58461538, 391.23846154,\n",
       "       446.60769231, 308.36923077, 520.92307692, 461.34230769,\n",
       "       409.85384615, 450.66538462, 428.68076923, 611.71923077,\n",
       "       302.91153846, 374.96153846, 485.8       , 455.93846154,\n",
       "       519.35      , 483.88076923, 475.91153846, 473.80769231,\n",
       "       554.61153846, 369.84615385, 498.06153846, 399.81923077,\n",
       "       487.02692308, 517.84615385, 408.82692308, 470.69615385,\n",
       "       445.87307692, 530.72692308, 401.73846154, 504.41153846,\n",
       "       455.61923077, 388.11538462, 472.81153846, 468.56923077,\n",
       "       502.79230769, 485.57307692, 543.35769231, 485.95384615,\n",
       "       398.62692308, 514.03461538, 488.46538462, 418.57307692,\n",
       "       310.50769231, 436.66538462, 491.49230769, 403.48846154,\n",
       "       435.24615385, 482.53846154, 473.17307692, 404.90769231,\n",
       "       486.98076923, 418.36923077, 448.18846154, 498.30769231,\n",
       "       463.19615385, 451.2       , 418.26153846, 501.49230769,\n",
       "       554.07307692, 476.02307692, 439.91538462, 427.36538462,\n",
       "       476.71923077, 435.36153846, 312.94230769, 386.93461538,\n",
       "       491.79615385, 352.70769231, 471.70769231, 515.95384615,\n",
       "       438.38076923, 481.48846154, 432.82692308, 298.63461538,\n",
       "       580.22307692, 445.13076923, 379.98461538, 533.08846154,\n",
       "       471.33076923, 474.31923077, 456.98846154, 483.14615385,\n",
       "       367.36153846, 399.03076923, 386.72692308, 584.31923077,\n",
       "       426.76538462, 318.14230769, 340.78461538, 529.39230769,\n",
       "       524.17692308, 363.91538462, 468.30769231, 387.20769231,\n",
       "       390.57692308, 479.18076923, 463.46923077, 547.08846154,\n",
       "       465.77307692, 492.23076923, 528.43076923, 554.02692308,\n",
       "       483.77307692, 470.34230769, 320.98846154, 521.57307692,\n",
       "       469.41923077, 582.64615385, 435.45384615, 397.62692308,\n",
       "       491.62307692, 526.41153846, 485.76923077, 458.26923077,\n",
       "       461.95769231, 485.46153846, 431.90384615, 482.16153846,\n",
       "       330.70769231, 523.76153846, 476.27307692, 490.77307692,\n",
       "       459.46153846, 503.60384615, 349.98846154, 541.02692308,\n",
       "       480.51538462, 481.81153846, 474.01923077, 369.29615385,\n",
       "       474.71538462, 463.32307692, 471.20384615, 478.37307692,\n",
       "       434.69230769, 403.21538462, 466.71153846, 471.95384615,\n",
       "       507.98846154, 440.53461538, 474.17692308, 494.61923077,\n",
       "       429.31153846, 476.99615385, 373.08076923, 499.03846154,\n",
       "       456.98846154, 466.97307692, 468.95384615, 529.59615385,\n",
       "       452.61538462, 417.33076923, 480.82692308, 505.26923077,\n",
       "       409.89615385, 459.1       , 413.76153846, 482.87692308,\n",
       "       522.33076923, 479.94230769, 519.71538462, 554.81538462,\n",
       "       484.90769231, 469.34615385, 465.93461538, 421.38076923,\n",
       "       439.56923077, 396.64615385, 467.30384615, 477.08846154,\n",
       "       534.64230769, 439.84615385, 315.66153846, 399.55769231,\n",
       "       482.53076923, 482.53076923, 407.65769231, 512.68461538,\n",
       "       327.99615385, 435.86153846, 369.3       , 481.81153846,\n",
       "       433.44615385, 510.52307692, 465.13076923, 597.19230769,\n",
       "       412.73846154, 491.55      , 517.12692308, 564.82307692,\n",
       "       507.98846154, 516.70769231, 426.76538462, 450.89230769,\n",
       "       386.73461538, 379.17692308, 475.79615385, 475.75769231,\n",
       "       492.        , 538.57692308, 611.83846154, 379.84230769,\n",
       "       432.55384615, 414.53846154, 484.81923077, 509.17307692,\n",
       "       460.18076923, 410.95769231, 494.60769231, 464.89615385,\n",
       "       548.50384615, 425.93076923, 464.91538462, 449.91538462,\n",
       "       546.93461538, 491.58846154, 388.64230769, 364.36153846,\n",
       "       384.63076923, 412.67307692, 539.82692308, 478.38461538,\n",
       "       302.56153846, 460.95      , 432.86153846, 497.57692308,\n",
       "       383.21923077, 507.4       , 528.62692308, 439.59615385,\n",
       "       511.53076923, 451.98846154, 515.64230769, 413.64230769,\n",
       "       485.55384615, 476.16538462, 437.58076923, 378.61538462,\n",
       "       434.35769231, 426.24230769, 536.26538462, 478.42692308,\n",
       "       340.86538462, 450.99615385, 461.32692308, 519.14230769,\n",
       "       414.86538462, 614.93076923, 423.55384615, 530.32307692,\n",
       "       376.01923077, 381.56538462, 524.60769231, 419.22307692,\n",
       "       310.63846154, 353.45      , 573.60769231, 476.4       ,\n",
       "       432.37307692, 559.11153846, 490.58461538, 542.73461538,\n",
       "       457.34615385, 509.51923077, 536.21538462, 502.15      ,\n",
       "       543.8       , 386.93461538, 533.71153846, 393.16538462,\n",
       "       542.59230769, 520.92307692, 468.58076923, 501.98076923,\n",
       "       427.72307692, 503.38846154, 492.93076923, 455.63461538,\n",
       "       388.30769231, 513.08461538, 341.33076923, 469.57307692,\n",
       "       484.46538462, 442.93461538, 417.41923077, 457.98461538,\n",
       "       463.1       , 517.84615385, 423.28076923, 465.66153846,\n",
       "       437.57692308, 482.35384615, 563.83461538, 478.35769231,\n",
       "       543.56153846, 329.51153846, 467.57692308, 537.98461538,\n",
       "       381.61923077, 455.06538462, 470.69615385, 633.63846154,\n",
       "       424.41538462, 525.65769231, 344.06153846, 462.54230769,\n",
       "       589.75      , 467.02692308, 580.33461538, 503.19615385,\n",
       "       517.02307692, 438.28461538, 410.99615385, 371.18461538,\n",
       "       432.04615385, 427.91923077, 490.71538462, 458.32692308,\n",
       "       483.67692308, 444.51923077, 509.85384615, 490.33461538,\n",
       "       415.53846154, 452.61153846, 347.65769231, 485.40769231,\n",
       "       560.81923077, 462.12692308, 514.13846154, 492.47692308,\n",
       "       440.70384615, 425.64615385, 524.48461538, 517.94615385,\n",
       "       427.72692308, 448.59615385, 388.20769231, 425.93076923,\n",
       "       472.93461538, 553.94615385, 371.06538462, 529.91923077,\n",
       "       442.26538462, 409.32307692, 451.61923077, 460.94230769,\n",
       "       496.47692308, 402.24615385, 319.69615385, 403.71153846,\n",
       "       525.48076923, 503.60384615, 488.71538462, 540.18076923,\n",
       "       463.65769231, 516.33076923, 454.40769231, 319.55      ,\n",
       "       306.70769231, 474.55769231, 464.48076923, 484.35769231,\n",
       "       496.96153846, 446.48076923, 522.24230769, 486.74615385,\n",
       "       450.54615385, 493.34615385, 392.70769231, 470.32692308,\n",
       "       440.91923077, 575.40769231, 546.90769231, 500.45      ,\n",
       "       534.66923077, 461.05384615, 536.62692308, 538.48076923,\n",
       "       463.13076923, 464.40769231, 482.15769231, 403.16923077,\n",
       "       395.96153846, 409.75384615, 439.71153846, 561.34230769,\n",
       "       523.97307692, 416.06153846, 299.08076923, 437.95384615])"
      ]
     },
     "execution_count": 15,
     "metadata": {},
     "output_type": "execute_result"
    }
   ],
   "source": [
    "predictions"
   ]
  },
  {
   "cell_type": "code",
   "execution_count": 16,
   "metadata": {},
   "outputs": [
    {
     "data": {
      "text/plain": [
       "99.91278013086965"
      ]
     },
     "execution_count": 16,
     "metadata": {},
     "output_type": "execute_result"
    }
   ],
   "source": [
    "# rmse value\n",
    "rms = np.sqrt(np.mean(np.power((np.array(y_test_reg) - np.array(predictions)), 2)))\n",
    "rms"
   ]
  },
  {
   "cell_type": "code",
   "execution_count": 17,
   "metadata": {},
   "outputs": [
    {
     "data": {
      "text/html": [
       "<div>\n",
       "<style scoped>\n",
       "    .dataframe tbody tr th:only-of-type {\n",
       "        vertical-align: middle;\n",
       "    }\n",
       "\n",
       "    .dataframe tbody tr th {\n",
       "        vertical-align: top;\n",
       "    }\n",
       "\n",
       "    .dataframe thead th {\n",
       "        text-align: right;\n",
       "    }\n",
       "</style>\n",
       "<table border=\"1\" class=\"dataframe\">\n",
       "  <thead>\n",
       "    <tr style=\"text-align: right;\">\n",
       "      <th></th>\n",
       "      <th>Actual Close</th>\n",
       "      <th>Predicted Close</th>\n",
       "    </tr>\n",
       "    <tr>\n",
       "      <th>Date</th>\n",
       "      <th></th>\n",
       "      <th></th>\n",
       "    </tr>\n",
       "  </thead>\n",
       "  <tbody>\n",
       "    <tr>\n",
       "      <th>2015-11-24</th>\n",
       "      <td>563.85</td>\n",
       "      <td>475.469231</td>\n",
       "    </tr>\n",
       "    <tr>\n",
       "      <th>2010-12-02</th>\n",
       "      <td>426.05</td>\n",
       "      <td>514.950000</td>\n",
       "    </tr>\n",
       "    <tr>\n",
       "      <th>2015-01-02</th>\n",
       "      <td>557.30</td>\n",
       "      <td>375.146154</td>\n",
       "    </tr>\n",
       "    <tr>\n",
       "      <th>2013-07-19</th>\n",
       "      <td>391.40</td>\n",
       "      <td>395.176923</td>\n",
       "    </tr>\n",
       "    <tr>\n",
       "      <th>2017-08-23</th>\n",
       "      <td>290.00</td>\n",
       "      <td>299.650000</td>\n",
       "    </tr>\n",
       "    <tr>\n",
       "      <th>2016-11-02</th>\n",
       "      <td>457.90</td>\n",
       "      <td>462.365385</td>\n",
       "    </tr>\n",
       "    <tr>\n",
       "      <th>2016-12-28</th>\n",
       "      <td>469.35</td>\n",
       "      <td>464.311538</td>\n",
       "    </tr>\n",
       "    <tr>\n",
       "      <th>2010-09-27</th>\n",
       "      <td>444.60</td>\n",
       "      <td>415.442308</td>\n",
       "    </tr>\n",
       "    <tr>\n",
       "      <th>2016-07-08</th>\n",
       "      <td>561.65</td>\n",
       "      <td>478.234615</td>\n",
       "    </tr>\n",
       "    <tr>\n",
       "      <th>2018-06-26</th>\n",
       "      <td>257.60</td>\n",
       "      <td>332.396154</td>\n",
       "    </tr>\n",
       "  </tbody>\n",
       "</table>\n",
       "</div>"
      ],
      "text/plain": [
       "            Actual Close  Predicted Close\n",
       "Date                                     \n",
       "2015-11-24        563.85       475.469231\n",
       "2010-12-02        426.05       514.950000\n",
       "2015-01-02        557.30       375.146154\n",
       "2013-07-19        391.40       395.176923\n",
       "2017-08-23        290.00       299.650000\n",
       "2016-11-02        457.90       462.365385\n",
       "2016-12-28        469.35       464.311538\n",
       "2010-09-27        444.60       415.442308\n",
       "2016-07-08        561.65       478.234615\n",
       "2018-06-26        257.60       332.396154"
      ]
     },
     "execution_count": 17,
     "metadata": {},
     "output_type": "execute_result"
    }
   ],
   "source": [
    "valid = pd.DataFrame({'Actual Close' : y_test_reg, 'Predicted Close' : predictions})\n",
    "valid.head(10)"
   ]
  }
 ],
 "metadata": {
  "kernelspec": {
   "display_name": "Python 3",
   "language": "python",
   "name": "python3"
  },
  "language_info": {
   "codemirror_mode": {
    "name": "ipython",
    "version": 3
   },
   "file_extension": ".py",
   "mimetype": "text/x-python",
   "name": "python",
   "nbconvert_exporter": "python",
   "pygments_lexer": "ipython3",
   "version": "3.11.4"
  }
 },
 "nbformat": 4,
 "nbformat_minor": 2
}
